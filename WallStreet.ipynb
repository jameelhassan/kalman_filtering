{
 "cells": [
  {
   "cell_type": "code",
   "execution_count": 2,
   "metadata": {},
   "outputs": [],
   "source": [
    "# Load mat files\n",
    "import scipy.io as sio\n",
    "import numpy as np\n",
    "import matplotlib.pyplot as plt\n",
    "from glob import glob\n",
    "import pandas as pd\n",
    "import os"
   ]
  },
  {
   "cell_type": "code",
   "execution_count": 361,
   "metadata": {},
   "outputs": [
    {
     "name": "stdout",
     "output_type": "stream",
     "text": [
      "Number of stocks 27\n",
      "Number of stocks after removing AMZN 26\n"
     ]
    }
   ],
   "source": [
    "data_paths = glob('data/*.csv')\n",
    "print(f\"Number of stocks {len(data_paths)}\")\n",
    "amzn_data_p = [d for d in data_paths if 'AMZN' in d]\n",
    "data_paths = [d for d in data_paths if 'AMZN' not in d]\n",
    "print(f\"Number of stocks after removing AMZN {len(data_paths)}\")"
   ]
  },
  {
   "cell_type": "code",
   "execution_count": 362,
   "metadata": {},
   "outputs": [
    {
     "name": "stdout",
     "output_type": "stream",
     "text": [
      "(26, 2515)\n"
     ]
    }
   ],
   "source": [
    "id2name = {}\n",
    "data_arr = []\n",
    "for i, dpath in enumerate(data_paths):\n",
    "    name = os.path.basename(dpath).split('.')[0]\n",
    "    id2name[i] = name\n",
    "\n",
    "    ds = pd.read_csv(dpath)\n",
    "    data_arr.append(ds['Close'].values)\n",
    "\n",
    "data_arr = np.array(data_arr)\n",
    "print(data_arr.shape)\n",
    "\n",
    "amzn_ds = pd.read_csv(amzn_data_p[0])\n",
    "amzn_data = amzn_ds['Close'].values"
   ]
  },
  {
   "cell_type": "code",
   "execution_count": 365,
   "metadata": {},
   "outputs": [
    {
     "name": "stdout",
     "output_type": "stream",
     "text": [
      "{0: 'MCHP', 1: 'APH', 2: 'STM', 3: 'ADI', 4: 'IFNNY', 5: 'TSM', 6: 'INTC', 7: 'GLW', 8: 'TXN', 9: 'AMAT', 10: 'AMD', 11: 'KLAC', 12: 'NXPI', 13: 'NVDA', 14: 'MRVL', 15: 'MPWR', 16: 'MRAAY', 17: 'AVGO', 18: 'TEL', 19: 'ON', 20: 'QCOM', 21: 'HXGBY', 22: 'GRMN', 23: 'MU', 24: 'ASML', 25: 'LRCX', 26: 'AMZN'}\n",
      "Shape of data is (26, 2515)\n"
     ]
    }
   ],
   "source": [
    "id2name[26] = 'AMZN'\n",
    "print(id2name)\n",
    "print(f\"Shape of data is {data_arr.shape}\")"
   ]
  },
  {
   "cell_type": "code",
   "execution_count": 364,
   "metadata": {},
   "outputs": [
    {
     "name": "stdout",
     "output_type": "stream",
     "text": [
      "Shape of training data (26, 2263)\n",
      "Shape of testing data (26, 252)\n"
     ]
    }
   ],
   "source": [
    "train_split = 0.9\n",
    "split_idx = np.int64(data_arr.shape[1] * train_split)\n",
    "train_data = data_arr[:, :split_idx]\n",
    "test_data = data_arr[:, split_idx:]\n",
    "print(f\"Shape of training data {train_data.shape}\")\n",
    "print(f\"Shape of testing data {test_data.shape}\")\n",
    "\n",
    "amzn_train = amzn_data[:np.int64(len(amzn_data) * train_split)]\n",
    "amzn_test = amzn_data[np.int64(len(amzn_data) * train_split):]"
   ]
  },
  {
   "cell_type": "markdown",
   "metadata": {},
   "source": [
    "#### Estimation metrics"
   ]
  },
  {
   "cell_type": "code",
   "execution_count": 6,
   "metadata": {},
   "outputs": [],
   "source": [
    "def compute_mse(Y, Y_hat):\n",
    "    assert Y.shape == Y_hat.shape, f\"Shape mismatch {Y.shape}, {Y_hat.shape}\"\n",
    "    return np.mean((Y - Y_hat)**2)\n",
    "\n",
    "def compute_mae(Y, Y_hat):\n",
    "    assert Y.shape == Y_hat.shape, f\"Shape mismatch {Y.shape}, {Y_hat.shape}\"\n",
    "    return np.mean(np.abs(Y - Y_hat))"
   ]
  },
  {
   "cell_type": "markdown",
   "metadata": {},
   "source": [
    "## Wolf of Wall Street!"
   ]
  },
  {
   "cell_type": "markdown",
   "metadata": {},
   "source": [
    "### Strategy\n",
    "\n",
    "Use a long moving average predictor (~30days) and a kalman filter prediction. Whenever both predictors are above the current value, BUY. Whenever both predictors are below the current value, SELL. \n",
    "\n",
    "Short settling: \\\n",
    "Consider the prediction for multi-day ahead. If this prediction shows a drop in price, and if the velocity is negative, perform a short sell in this time window."
   ]
  },
  {
   "cell_type": "code",
   "execution_count": null,
   "metadata": {},
   "outputs": [],
   "source": [
    "class KalmanFilter():\n",
    "    def __init__(self, A, H, P_init, X, x_in):\n",
    "        self.A = A\n",
    "        self.H = H\n",
    "        self.P = P_init\n",
    "        self.x = np.array([[X[0]], [0]])\n",
    "        self.X = X\n",
    "\n",
    "        velocity = np.diff(X) # Rate of change of stock price\n",
    "        velocity = np.hstack(([0], velocity))   # prepend a 0 for initial velocity\n",
    "        x_in = x_in\n",
    "        # Estimate R (measurement noise covariance)\n",
    "        self.R = np.reshape(np.var(x_in), (1,1))\n",
    "        # Estimate Q (process noise covariance)\n",
    "        vel_in = velocity[:len(x_in)]\n",
    "        del_x0 = np.diff(x_in) - vel_in[:-1]    # delta x0 (delta stock price)\n",
    "        del_x1 = np.diff(vel_in)    # delta x1 (delta velocity)\n",
    "        self.Q = np.cov(np.vstack((del_x0, del_x1))) * 1e-1\n",
    "\n",
    "    def predict(self):        \n",
    "        x_pred = self.A @ self.x    # (2, 2) * (2, 1) --> (2, 1)\n",
    "        P_pred = self.A @ self.P @ self.A.T + self.Q    # (2,2) + (2,2) --> (2,2)\n",
    "        return x_pred, P_pred\n",
    "\n",
    "    def update(self, x_pred, P_pred, z):\n",
    "        K = (P_pred @ self.H.T) / (self.H @ P_pred @ self.H.T + self.R) # (2,2) * (2,1) / (1,1) --> (2,1)\n",
    "        self.x = x_pred + K @ (z - self.H @ x_pred)\n",
    "        self.P = (np.eye(2) - K @ self.H) @ P_pred   # (2,2) * (2,2) --> (2,2)\n",
    "\n",
    "    def get_state(self):\n",
    "        return self.x   \n",
    "    "
   ]
  },
  {
   "cell_type": "code",
   "execution_count": 351,
   "metadata": {},
   "outputs": [
    {
     "name": "stdout",
     "output_type": "stream",
     "text": [
      "######### Trading Begins for MCHP!! #########\n",
      "Final investment: $110279.13\n",
      "# Short sells: 2\n",
      "######### Trading Begins for APH!! #########\n",
      "Final investment: $115017.55\n",
      "# Short sells: 0\n",
      "######### Trading Begins for STM!! #########\n",
      "Final investment: $107470.68\n",
      "# Short sells: 0\n",
      "######### Trading Begins for ADI!! #########\n",
      "Final investment: $114935.81\n",
      "# Short sells: 1\n",
      "######### Trading Begins for IFNNY!! #########\n",
      "Final investment: $107232.03\n",
      "# Short sells: 0\n",
      "######### Trading Begins for TSM!! #########\n",
      "Final investment: $108367.38\n",
      "# Short sells: 0\n",
      "######### Trading Begins for INTC!! #########\n",
      "Final investment: $107216.22\n",
      "# Short sells: 0\n",
      "######### Trading Begins for GLW!! #########\n",
      "Final investment: $107454.92\n",
      "# Short sells: 0\n",
      "######### Trading Begins for TXN!! #########\n",
      "Final investment: $110737.48\n",
      "# Short sells: 1\n",
      "######### Trading Begins for AMAT!! #########\n",
      "Final investment: $112266.98\n",
      "# Short sells: 2\n",
      "######### Trading Begins for AMD!! #########\n",
      "Final investment: $107820.87\n",
      "# Short sells: 3\n",
      "######### Trading Begins for KLAC!! #########\n",
      "Final investment: $121916.06\n",
      "# Short sells: 4\n",
      "######### Trading Begins for NXPI!! #########\n",
      "Final investment: $111466.13\n",
      "# Short sells: 4\n",
      "######### Trading Begins for NVDA!! #########\n",
      "Final investment: $128892.94\n",
      "# Short sells: 3\n",
      "######### Trading Begins for MRVL!! #########\n",
      "Final investment: $106681.28\n",
      "# Short sells: 0\n",
      "######### Trading Begins for MPWR!! #########\n",
      "Final investment: $115690.62\n",
      "# Short sells: 5\n",
      "######### Trading Begins for MRAAY!! #########\n",
      "Final investment: $102353.39\n",
      "# Short sells: 0\n",
      "######### Trading Begins for AVGO!! #########\n",
      "Final investment: $154674.55\n",
      "# Short sells: 3\n",
      "######### Trading Begins for TEL!! #########\n",
      "Final investment: $112648.83\n",
      "# Short sells: 1\n",
      "######### Trading Begins for ON!! #########\n",
      "Final investment: $109099.27\n",
      "# Short sells: 2\n",
      "######### Trading Begins for QCOM!! #########\n",
      "Final investment: $111088.8\n",
      "# Short sells: 4\n",
      "######### Trading Begins for HXGBY!! #########\n",
      "Final investment: $102630.377\n",
      "# Short sells: 0\n",
      "######### Trading Begins for GRMN!! #########\n",
      "Final investment: $120261.59\n",
      "# Short sells: 0\n",
      "######### Trading Begins for MU!! #########\n",
      "Final investment: $110924.43\n",
      "# Short sells: 0\n",
      "######### Trading Begins for ASML!! #########\n",
      "Final investment: $109543.99\n",
      "# Short sells: 4\n",
      "######### Trading Begins for LRCX!! #########\n",
      "Final investment: $127112.09\n",
      "# Short sells: 4\n"
     ]
    }
   ],
   "source": [
    "window = 30\n",
    "day_shift = 30\n",
    "all_short_sell_ids = []\n",
    "all_ypreds = []\n",
    "all_ypreds30 = []\n",
    "all_ytrue = []\n",
    "all_MA40s = []\n",
    "all_MA5 = []\n",
    "\n",
    "for stock, (x_in, x_train) in enumerate(zip(train_data, data_arr)):\n",
    "    velocity = np.diff(x_train)  # Rate of change of stock price\n",
    "    velocity = np.hstack(([0], velocity))  # Prepend a 0 for initial velocity\n",
    "\n",
    "    # Initialize Kalman filter parameters\n",
    "    A = np.array([[1, 1], [0, 1]])    # (2, 2)\n",
    "    H = np.array([[1, 0]])            # (1, 2)\n",
    "    P_init = np.eye(2)                # Initial error covariance\n",
    "    x_init = np.array([[x_train[0]], [0]])  # Initial state with velocity 0\n",
    "\n",
    "    # Estimate R (measurement noise covariance)\n",
    "    R = np.reshape(np.var(x_in), (1, 1))\n",
    "    # Estimate Q (process noise covariance)\n",
    "    vel_in = velocity[:len(x_in)]\n",
    "    del_x0 = np.diff(x_in) - vel_in[:-1]\n",
    "    del_x1 = np.diff(vel_in)\n",
    "    Q = np.cov(np.vstack((del_x0, del_x1))) * 1e-1\n",
    "\n",
    "    # Instantiate the Kalman filter\n",
    "    # kalman_filter = KalmanFilterGPT(A, H, Q, R, x_init, P_init)\n",
    "    kalman_1day = KalmanFilter(A=A, H=H, P_init=P_init, X=x_train, x_in=x_in)\n",
    "    kalman_30day = KalmanFilter(A=A, H=H, P_init=P_init, X=x_train, x_in=x_in)\n",
    "\n",
    "    # Prepare for predictions\n",
    "    investment_net = 100000\n",
    "    MA40 = []\n",
    "    MA5 = []\n",
    "    BORROW = False\n",
    "    SHORT_SELLS = 0\n",
    "    short_sell_ids = []\n",
    "    N = x_train.shape[0]\n",
    "    Y_preds = []\n",
    "    Y_preds30 = []\n",
    "    Y_true = []\n",
    "\n",
    "    for i in range(1, N):\n",
    "        # Compute moving average\n",
    "        if i > window:\n",
    "            MA40.append(np.mean(x_train[i - window:i]))\n",
    "        if i > 5:\n",
    "            MA5.append(np.mean(x_train[i - 5:i]))\n",
    "\n",
    "        # Kalman Prediction\n",
    "        x_pred, P_pred = kalman_1day.predict()\n",
    "        z = np.array([x_train[i - 1]])  # Current observation\n",
    "        kalman_1day.update(x_pred, P_pred, z)\n",
    "\n",
    "        # 30-day ahead prediction\n",
    "        if i > day_shift:\n",
    "            x_pred30, P_pred30 = kalman_30day.predict()\n",
    "            z30 = np.array([x_train[i - day_shift]])  # Current observation\n",
    "            kalman_30day.update(x_pred30, P_pred30, z30)\n",
    "            x_est30 = kalman_30day.get_state()\n",
    "            Y_preds30.append(x_est30[0][0])\n",
    "\n",
    "        # Store predictions and true values\n",
    "        x_est1 = kalman_1day.get_state()\n",
    "\n",
    "        Y_preds.append(x_est1[0][0])\n",
    "        Y_true.append(x_train[i])\n",
    "\n",
    "        ################## TRADING STRATEGY ##################\n",
    "        if i == split_idx:\n",
    "            print(f\"######### Trading Begins for {id2name[stock]}!! #########\")\n",
    "        if i > split_idx:\n",
    "            # Check for short selling\n",
    "            if BORROW and (i - short_window == day_shift):\n",
    "                investment_net = investment_net - z\n",
    "                BORROW = False\n",
    "                short_window = 0 # NOT needed here, but for clarity\n",
    "                SHORT_SELLS += 1\n",
    "            if not BORROW and (i > 30) and (x_est1[1][0] < -0.5) and (x_est30[0][0] - x_train[i] < 5) and (investment_net > 0):\n",
    "                # print(f\"Performing borrow for short sell\")\n",
    "                investment_net = investment_net + z\n",
    "                BORROW = True\n",
    "                short_window = i\n",
    "                short_sell_ids.append(i)\n",
    "            # Buy if x > z and MA40 > z\n",
    "            if x_est1[0][0] - z > 2 and MA40[-1] - z > 2 and investment_net > 0:\n",
    "                investment_net = (investment_net - z)[0]\n",
    "            elif x_est1[0][0] - z < 2 and MA40[-1] - z < 2:\n",
    "                investment_net = (investment_net + z)[0]\n",
    "\n",
    "        ################# TRADING STRATEGY END ##################\n",
    "    all_short_sell_ids.append(short_sell_ids)\n",
    "    all_MA40s.append(MA40)\n",
    "    all_MA5.append(MA5)\n",
    "    all_ypreds.append(Y_preds)\n",
    "    all_ypreds30.append(Y_preds30)\n",
    "    all_ytrue.append(Y_true)\n",
    "\n",
    "    print(f\"Final investment: ${np.round(investment_net, 3)}\")\n",
    "    print(f\"# Short sells: {SHORT_SELLS}\")"
   ]
  },
  {
   "cell_type": "code",
   "execution_count": 360,
   "metadata": {},
   "outputs": [
    {
     "data": {
      "text/plain": [
       "<matplotlib.legend.Legend at 0x155b11fd0>"
      ]
     },
     "execution_count": 360,
     "metadata": {},
     "output_type": "execute_result"
    },
    {
     "data": {
      "image/png": "[encoded data removed]",
      "text/plain": [
       "<Figure size 1000x500 with 1 Axes>"
      ]
     },
     "metadata": {},
     "output_type": "display_data"
    }
   ],
   "source": [
    "stock = 24\n",
    "test_idx = train_data.shape[1]\n",
    "test_x = np.arange(test_idx + 1, data_arr.shape[1])\n",
    "train_start = test_idx\n",
    "train_x = np.arange(train_start, data_arr.shape[1])\n",
    "plt.figure(figsize=(10, 5))\n",
    "plt.plot(train_x, data_arr[stock, train_start:], label=\"Actual data\")\n",
    "plt.plot(test_x, all_ypreds[stock][test_idx:], label=\"Predicted data\")\n",
    "plt.vlines(all_short_sell_ids[stock], ymin=550, ymax=750, color='r', label='Short Sell', alpha=0.8, linestyles='dashed')\n",
    "plt.title(f\"RLS Prediction {id2name[stock]}\")\n",
    "plt.legend()"
   ]
  },
  {
   "cell_type": "markdown",
   "metadata": {},
   "source": [
    "### Stock trading for Amazon"
   ]
  },
  {
   "cell_type": "code",
   "execution_count": 366,
   "metadata": {},
   "outputs": [
    {
     "name": "stdout",
     "output_type": "stream",
     "text": [
      "######### Trading Begins for LRCX!! #########\n",
      "Final investment: $94869988.776\n",
      "# Short sells: 0\n"
     ]
    }
   ],
   "source": [
    "\n",
    "stock = 26\n",
    "x_in, x_train = amzn_train, amzn_data\n",
    "velocity = np.diff(x_train)  # Rate of change of stock price\n",
    "velocity = np.hstack(([0], velocity))  # Prepend a 0 for initial velocity\n",
    "\n",
    "# Initialize Kalman filter parameters\n",
    "A = np.array([[1, 1], [0, 1]])    # (2, 2)\n",
    "H = np.array([[1, 0]])            # (1, 2)\n",
    "P_init = np.eye(2)                # Initial error covariance\n",
    "x_init = np.array([[x_train[0]], [0]])  # Initial state with velocity 0\n",
    "\n",
    "# Estimate R (measurement noise covariance)\n",
    "R = np.reshape(np.var(x_in), (1, 1))\n",
    "# Estimate Q (process noise covariance)\n",
    "vel_in = velocity[:len(x_in)]\n",
    "del_x0 = np.diff(x_in) - vel_in[:-1]\n",
    "del_x1 = np.diff(vel_in)\n",
    "Q = np.cov(np.vstack((del_x0, del_x1))) * 1e-1\n",
    "\n",
    "# Instantiate the Kalman filter\n",
    "# kalman_filter = KalmanFilterGPT(A, H, Q, R, x_init, P_init)\n",
    "kalman_1day = KalmanFilter(A=A, H=H, P_init=P_init, X=x_train, x_in=x_in)\n",
    "kalman_30day = KalmanFilter(A=A, H=H, P_init=P_init, X=x_train, x_in=x_in)\n",
    "\n",
    "# Prepare for predictions\n",
    "investment_net = 100000\n",
    "MA40 = []\n",
    "MA5 = []\n",
    "BORROW = False\n",
    "SHORT_SELLS = 0\n",
    "short_sell_ids = []\n",
    "N = x_train.shape[0]\n",
    "Y_preds = []\n",
    "Y_preds30 = []\n",
    "Y_true = []\n",
    "\n",
    "for i in range(1, N):\n",
    "    # Compute moving average\n",
    "    if i > window:\n",
    "        MA40.append(np.mean(x_train[i - window:i]))\n",
    "    if i > 5:\n",
    "        MA5.append(np.mean(x_train[i - 5:i]))\n",
    "\n",
    "    # Kalman Prediction\n",
    "    x_pred, P_pred = kalman_1day.predict()\n",
    "    z = np.array([x_train[i - 1]])  # Current observation\n",
    "    kalman_1day.update(x_pred, P_pred, z)\n",
    "\n",
    "    # 30-day ahead prediction\n",
    "    if i > day_shift:\n",
    "        x_pred30, P_pred30 = kalman_30day.predict()\n",
    "        z30 = np.array([x_train[i - day_shift]])  # Current observation\n",
    "        kalman_30day.update(x_pred30, P_pred30, z30)\n",
    "        x_est30 = kalman_30day.get_state()\n",
    "        Y_preds30.append(x_est30[0][0])\n",
    "\n",
    "    # Store predictions and true values\n",
    "    x_est1 = kalman_1day.get_state()\n",
    "\n",
    "    Y_preds.append(x_est1[0][0])\n",
    "    Y_true.append(x_train[i])\n",
    "\n",
    "    ################## TRADING STRATEGY ##################\n",
    "    if i == split_idx:\n",
    "        print(f\"######### Trading Begins for {id2name[stock]}!! #########\")\n",
    "    if i > split_idx:\n",
    "        # Check for short selling\n",
    "        if BORROW and (i - short_window == day_shift):\n",
    "            investment_net = investment_net - z\n",
    "            BORROW = False\n",
    "            short_window = 0 # NOT needed here, but for clarity\n",
    "            SHORT_SELLS += 1\n",
    "        if not BORROW and (i > 30) and (x_est1[1][0] < -0.5) and (x_est30[0][0] - x_train[i] < 5) and (investment_net > 0):\n",
    "            # print(f\"Performing borrow for short sell\")\n",
    "            investment_net = investment_net + z\n",
    "            BORROW = True\n",
    "            short_window = i\n",
    "            short_sell_ids.append(i)\n",
    "        # Buy if x > z and MA40 > z\n",
    "        if x_est1[0][0] - z > 2 and MA40[-1] - z > 2 and investment_net > 0:\n",
    "            investment_net = (investment_net - z)[0]\n",
    "        elif x_est1[0][0] - z < 2 and MA40[-1] - z < 2:\n",
    "            investment_net = (investment_net + z)[0]\n",
    "\n",
    "    ################# TRADING STRATEGY END ##################\n",
    "all_short_sell_ids.append(short_sell_ids)\n",
    "all_MA40s.append(MA40)\n",
    "all_MA5.append(MA5)\n",
    "all_ypreds.append(Y_preds)\n",
    "all_ypreds30.append(Y_preds30)\n",
    "all_ytrue.append(Y_true)\n",
    "\n",
    "print(f\"Final investment: ${np.round(investment_net, 3)}\")\n",
    "print(f\"# Short sells: {SHORT_SELLS}\")"
   ]
  },
  {
   "cell_type": "code",
   "execution_count": null,
   "metadata": {},
   "outputs": [],
   "source": []
  }
 ],
 "metadata": {
  "kernelspec": {
   "display_name": "ai702",
   "language": "python",
   "name": "python3"
  },
  "language_info": {
   "codemirror_mode": {
    "name": "ipython",
    "version": 3
   },
   "file_extension": ".py",
   "mimetype": "text/x-python",
   "name": "python",
   "nbconvert_exporter": "python",
   "pygments_lexer": "ipython3",
   "version": "3.8.19"
  }
 },
 "nbformat": 4,
 "nbformat_minor": 2
}
